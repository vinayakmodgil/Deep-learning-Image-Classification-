{
 "cells": [
  {
   "cell_type": "code",
   "execution_count": 1,
   "metadata": {
    "ExecuteTime": {
     "end_time": "2021-09-06T17:18:03.689924Z",
     "start_time": "2021-09-06T17:18:01.339067Z"
    }
   },
   "outputs": [
    {
     "name": "stdout",
     "output_type": "stream",
     "text": [
      "Collecting talos\n",
      "  Using cached talos-1.0-py3-none-any.whl (53 kB)\n",
      "Collecting tensorflow>=2.0.0\n",
      "  Downloading tensorflow-2.6.0-cp38-cp38-win_amd64.whl (423.2 MB)\n",
      "Collecting sklearn\n",
      "  Using cached sklearn-0.0.tar.gz (1.1 kB)\n",
      "Requirement already satisfied: statsmodels>=0.11.0 in c:\\users\\vinay\\anaconda3\\lib\\site-packages (from talos) (0.12.2)\n",
      "Collecting chances\n",
      "  Downloading chances-0.1.9.tar.gz (35 kB)\n",
      "Requirement already satisfied: tqdm in c:\\users\\vinay\\anaconda3\\lib\\site-packages (from talos) (4.59.0)"
     ]
    },
    {
     "name": "stderr",
     "output_type": "stream",
     "text": [
      "  ERROR: Command errored out with exit status 1:\n",
      "   command: 'C:\\Users\\vinay\\Anaconda3\\python.exe' -u -c 'import sys, setuptools, tokenize; sys.argv[0] = '\"'\"'C:\\\\Users\\\\vinay\\\\AppData\\\\Local\\\\Temp\\\\pip-install-d0ehtdym\\\\scipy_9de7dc68ab114f778ee9da603d848bee\\\\setup.py'\"'\"'; __file__='\"'\"'C:\\\\Users\\\\vinay\\\\AppData\\\\Local\\\\Temp\\\\pip-install-d0ehtdym\\\\scipy_9de7dc68ab114f778ee9da603d848bee\\\\setup.py'\"'\"';f=getattr(tokenize, '\"'\"'open'\"'\"', open)(__file__);code=f.read().replace('\"'\"'\\r\\n'\"'\"', '\"'\"'\\n'\"'\"');f.close();exec(compile(code, __file__, '\"'\"'exec'\"'\"'))' bdist_wheel -d 'C:\\Users\\vinay\\AppData\\Local\\Temp\\pip-wheel-swaa6kur'\n",
      "       cwd: C:\\Users\\vinay\\AppData\\Local\\Temp\\pip-install-d0ehtdym\\scipy_9de7dc68ab114f778ee9da603d848bee\\\n",
      "  Complete output (134 lines):\n",
      "  Running from scipy source directory.\n",
      "  lapack_opt_info:\n",
      "  lapack_mkl_info:\n",
      "  No module named 'numpy.distutils._msvccompiler' in numpy.distutils; trying from distutils\n",
      "  customize MSVCCompiler\n",
      "    libraries mkl_rt not found in ['C:\\\\Users\\\\vinay\\\\Anaconda3\\\\lib', 'C:\\\\', 'C:\\\\Users\\\\vinay\\\\Anaconda3\\\\libs']\n",
      "    NOT AVAILABLE\n",
      "  \n",
      "  openblas_lapack_info:\n",
      "    libraries openblas not found in ['C:\\\\Users\\\\vinay\\\\Anaconda3\\\\lib', 'C:\\\\', 'C:\\\\Users\\\\vinay\\\\Anaconda3\\\\libs']\n",
      "  get_default_fcompiler: matching types: '['gnu', 'intelv', 'absoft', 'compaqv', 'intelev', 'gnu95', 'g95', 'intelvem', 'intelem', 'flang']'\n",
      "  customize GnuFCompiler\n",
      "  Could not locate executable g77\n",
      "  Could not locate executable f77\n",
      "  customize IntelVisualFCompiler\n",
      "  Could not locate executable ifort\n",
      "  Could not locate executable ifl\n",
      "  customize AbsoftFCompiler\n",
      "  Could not locate executable f90\n",
      "  customize CompaqVisualFCompiler\n",
      "  Found executable C:\\Program Files\\Git\\usr\\bin\\DF.exe\n",
      "  Could not locate executable C:\\Program\n",
      "  customize IntelItaniumVisualFCompiler\n",
      "  Could not locate executable efl\n",
      "  customize Gnu95FCompiler\n",
      "  Found executable C:\\Program Files (x86)\\mingw-w64\\i686-8.1.0-posix-dwarf-rt_v6-rev0\\mingw32\\bin\\gfortran.exe\n",
      "  Using built-in specs.\n",
      "  COLLECT_GCC=C:\\Program Files (x86)\\mingw-w64\\i686-8.1.0-posix-dwarf-rt_v6-rev0\\mingw32\\bin\\gfortran.exe\n",
      "  COLLECT_LTO_WRAPPER=C:/Program\\ Files\\ (x86)/mingw-w64/i686-8.1.0-posix-dwarf-rt_v6-rev0/mingw32/bin/../libexec/gcc/i686-w64-mingw32/8.1.0/lto-wrapper.exe\n",
      "  Target: i686-w64-mingw32\n",
      "  Configured with: ../../../src/gcc-8.1.0/configure --host=i686-w64-mingw32 --build=i686-w64-mingw32 --target=i686-w64-mingw32 --prefix=/mingw32 --with-sysroot=/c/mingw810/i686-810-posix-dwarf-rt_v6-rev0/mingw32 --enable-shared --enable-static --disable-multilib --enable-languages=c,c++,fortran,lto --enable-libstdcxx-time=yes --enable-threads=posix --enable-libgomp --enable-libatomic --enable-lto --enable-graphite --enable-checking=release --enable-fully-dynamic-string --enable-version-specific-runtime-libs --disable-sjlj-exceptions --with-dwarf2 --disable-libstdcxx-pch --disable-libstdcxx-debug --enable-bootstrap --disable-rpath --disable-win32-registry --disable-nls --disable-werror --disable-symvers --with-gnu-as --with-gnu-ld --with-arch=i686 --with-tune=generic --with-libiconv --with-system-zlib --with-gmp=/c/mingw810/prerequisites/i686-w64-mingw32-static --with-mpfr=/c/mingw810/prerequisites/i686-w64-mingw32-static --with-mpc=/c/mingw810/prerequisites/i686-w64-mingw32-static --with-isl=/c/mingw810/prerequisites/i686-w64-mingw32-static --with-pkgversion='i686-posix-dwarf-rev0, Built by MinGW-W64 project' --with-bugurl=https://sourceforge.net/projects/mingw-w64 CFLAGS='-O2 -pipe -fno-ident -I/c/mingw810/i686-810-posix-dwarf-rt_v6-rev0/mingw32/opt/include -I/c/mingw810/prerequisites/i686-zlib-static/include -I/c/mingw810/prerequisites/i686-w64-mingw32-static/include' CXXFLAGS='-O2 -pipe -fno-ident -I/c/mingw810/i686-810-posix-dwarf-rt_v6-rev0/mingw32/opt/include -I/c/mingw810/prerequisites/i686-zlib-static/include -I/c/mingw810/prerequisites/i686-w64-mingw32-static/include' CPPFLAGS=' -I/c/mingw810/i686-810-posix-dwarf-rt_v6-rev0/mingw32/opt/include -I/c/mingw810/prerequisites/i686-zlib-static/include -I/c/mingw810/prerequisites/i686-w64-mingw32-static/include' LDFLAGS='-pipe -fno-ident -L/c/mingw810/i686-810-posix-dwarf-rt_v6-rev0/mingw32/opt/lib -L/c/mingw810/prerequisites/i686-zlib-static/lib -L/c/mingw810/prerequisites/i686-w64-mingw32-static/lib -Wl,--large-address-aware'\n",
      "  Thread model: posix\n",
      "  gcc version 8.1.0 (i686-posix-dwarf-rev0, Built by MinGW-W64 project)\n",
      "    NOT AVAILABLE\n",
      "  \n",
      "  openblas_clapack_info:\n",
      "    libraries openblas,lapack not found in ['C:\\\\Users\\\\vinay\\\\Anaconda3\\\\lib', 'C:\\\\', 'C:\\\\Users\\\\vinay\\\\Anaconda3\\\\libs']\n",
      "  get_default_fcompiler: matching types: '['gnu', 'intelv', 'absoft', 'compaqv', 'intelev', 'gnu95', 'g95', 'intelvem', 'intelem', 'flang']'\n",
      "  customize GnuFCompiler\n",
      "  customize IntelVisualFCompiler\n",
      "  customize AbsoftFCompiler\n",
      "  customize CompaqVisualFCompiler\n",
      "  customize IntelItaniumVisualFCompiler\n",
      "  customize Gnu95FCompiler\n",
      "  Using built-in specs.\n",
      "  COLLECT_GCC=C:\\Program Files (x86)\\mingw-w64\\i686-8.1.0-posix-dwarf-rt_v6-rev0\\mingw32\\bin\\gfortran.exe\n",
      "  COLLECT_LTO_WRAPPER=C:/Program\\ Files\\ (x86)/mingw-w64/i686-8.1.0-posix-dwarf-rt_v6-rev0/mingw32/bin/../libexec/gcc/i686-w64-mingw32/8.1.0/lto-wrapper.exe\n",
      "  Target: i686-w64-mingw32\n",
      "  Configured with: ../../../src/gcc-8.1.0/configure --host=i686-w64-mingw32 --build=i686-w64-mingw32 --target=i686-w64-mingw32 --prefix=/mingw32 --with-sysroot=/c/mingw810/i686-810-posix-dwarf-rt_v6-rev0/mingw32 --enable-shared --enable-static --disable-multilib --enable-languages=c,c++,fortran,lto --enable-libstdcxx-time=yes --enable-threads=posix --enable-libgomp --enable-libatomic --enable-lto --enable-graphite --enable-checking=release --enable-fully-dynamic-string --enable-version-specific-runtime-libs --disable-sjlj-exceptions --with-dwarf2 --disable-libstdcxx-pch --disable-libstdcxx-debug --enable-bootstrap --disable-rpath --disable-win32-registry --disable-nls --disable-werror --disable-symvers --with-gnu-as --with-gnu-ld --with-arch=i686 --with-tune=generic --with-libiconv --with-system-zlib --with-gmp=/c/mingw810/prerequisites/i686-w64-mingw32-static --with-mpfr=/c/mingw810/prerequisites/i686-w64-mingw32-static --with-mpc=/c/mingw810/prerequisites/i686-w64-mingw32-static --with-isl=/c/mingw810/prerequisites/i686-w64-mingw32-static --with-pkgversion='i686-posix-dwarf-rev0, Built by MinGW-W64 project' --with-bugurl=https://sourceforge.net/projects/mingw-w64 CFLAGS='-O2 -pipe -fno-ident -I/c/mingw810/i686-810-posix-dwarf-rt_v6-rev0/mingw32/opt/include -I/c/mingw810/prerequisites/i686-zlib-static/include -I/c/mingw810/prerequisites/i686-w64-mingw32-static/include' CXXFLAGS='-O2 -pipe -fno-ident -I/c/mingw810/i686-810-posix-dwarf-rt_v6-rev0/mingw32/opt/include -I/c/mingw810/prerequisites/i686-zlib-static/include -I/c/mingw810/prerequisites/i686-w64-mingw32-static/include' CPPFLAGS=' -I/c/mingw810/i686-810-posix-dwarf-rt_v6-rev0/mingw32/opt/include -I/c/mingw810/prerequisites/i686-zlib-static/include -I/c/mingw810/prerequisites/i686-w64-mingw32-static/include' LDFLAGS='-pipe -fno-ident -L/c/mingw810/i686-810-posix-dwarf-rt_v6-rev0/mingw32/opt/lib -L/c/mingw810/prerequisites/i686-zlib-static/lib -L/c/mingw810/prerequisites/i686-w64-mingw32-static/lib -Wl,--large-address-aware'\n",
      "  Thread model: posix\n",
      "  gcc version 8.1.0 (i686-posix-dwarf-rev0, Built by MinGW-W64 project)\n",
      "    NOT AVAILABLE\n",
      "  \n",
      "  flame_info:\n",
      "    libraries flame not found in ['C:\\\\Users\\\\vinay\\\\Anaconda3\\\\lib', 'C:\\\\', 'C:\\\\Users\\\\vinay\\\\Anaconda3\\\\libs']\n",
      "    NOT AVAILABLE\n",
      "  \n",
      "  atlas_3_10_threads_info:\n",
      "  Setting PTATLAS=ATLAS\n",
      "    libraries lapack_atlas not found in C:\\Users\\vinay\\Anaconda3\\lib\n",
      "    libraries tatlas,tatlas not found in C:\\Users\\vinay\\Anaconda3\\lib\n",
      "    libraries lapack_atlas not found in C:\\\n",
      "    libraries tatlas,tatlas not found in C:\\\n",
      "    libraries lapack_atlas not found in C:\\Users\\vinay\\Anaconda3\\libs\n",
      "    libraries tatlas,tatlas not found in C:\\Users\\vinay\\Anaconda3\\libs\n",
      "  <class 'numpy.distutils.system_info.atlas_3_10_threads_info'>\n",
      "    NOT AVAILABLE\n",
      "  \n",
      "  atlas_3_10_info:\n",
      "    libraries lapack_atlas not found in C:\\Users\\vinay\\Anaconda3\\lib\n",
      "    libraries satlas,satlas not found in C:\\Users\\vinay\\Anaconda3\\lib\n",
      "    libraries lapack_atlas not found in C:\\\n",
      "    libraries satlas,satlas not found in C:\\\n",
      "    libraries lapack_atlas not found in C:\\Users\\vinay\\Anaconda3\\libs\n",
      "    libraries satlas,satlas not found in C:\\Users\\vinay\\Anaconda3\\libs\n",
      "  <class 'numpy.distutils.system_info.atlas_3_10_info'>\n",
      "    NOT AVAILABLE\n",
      "  \n",
      "  atlas_threads_info:\n",
      "  Setting PTATLAS=ATLAS\n",
      "    libraries lapack_atlas not found in C:\\Users\\vinay\\Anaconda3\\lib\n",
      "    libraries ptf77blas,ptcblas,atlas not found in C:\\Users\\vinay\\Anaconda3\\lib\n",
      "    libraries lapack_atlas not found in C:\\\n",
      "    libraries ptf77blas,ptcblas,atlas not found in C:\\\n",
      "    libraries lapack_atlas not found in C:\\Users\\vinay\\Anaconda3\\libs\n",
      "    libraries ptf77blas,ptcblas,atlas not found in C:\\Users\\vinay\\Anaconda3\\libs\n",
      "  <class 'numpy.distutils.system_info.atlas_threads_info'>\n",
      "    NOT AVAILABLE\n",
      "  \n",
      "  atlas_info:\n",
      "    libraries lapack_atlas not found in C:\\Users\\vinay\\Anaconda3\\lib\n",
      "    libraries f77blas,cblas,atlas not found in C:\\Users\\vinay\\Anaconda3\\lib\n",
      "    libraries lapack_atlas not found in C:\\\n",
      "    libraries f77blas,cblas,atlas not found in C:\\\n",
      "    libraries lapack_atlas not found in C:\\Users\\vinay\\Anaconda3\\libs\n",
      "    libraries f77blas,cblas,atlas not found in C:\\Users\\vinay\\Anaconda3\\libs\n",
      "  <class 'numpy.distutils.system_info.atlas_info'>\n",
      "    NOT AVAILABLE\n",
      "  \n",
      "  accelerate_info:\n",
      "    NOT AVAILABLE\n",
      "  \n",
      "  lapack_info:\n",
      "    libraries lapack not found in ['C:\\\\Users\\\\vinay\\\\Anaconda3\\\\lib', 'C:\\\\', 'C:\\\\Users\\\\vinay\\\\Anaconda3\\\\libs']\n",
      "    NOT AVAILABLE\n",
      "  \n",
      "  C:\\Users\\vinay\\Anaconda3\\lib\\site-packages\\numpy\\distutils\\system_info.py:1748: UserWarning:\n",
      "      Lapack (http://www.netlib.org/lapack/) libraries not found.\n",
      "      Directories to search for the libraries can be specified in the\n",
      "      numpy/distutils/site.cfg file (section [lapack]) or by setting\n",
      "      the LAPACK environment variable.\n",
      "    return getattr(self, '_calc_info_{}'.format(name))()\n",
      "  lapack_src_info:\n",
      "    NOT AVAILABLE\n",
      "  \n",
      "  C:\\Users\\vinay\\Anaconda3\\lib\\site-packages\\numpy\\distutils\\system_info.py:1748: UserWarning:\n",
      "      Lapack (http://www.netlib.org/lapack/) sources not found.\n",
      "      Directories to search for the sources can be specified in the\n",
      "      numpy/distutils/site.cfg file (section [lapack_src]) or by setting\n",
      "      the LAPACK_SRC environment variable.\n",
      "    return getattr(self, '_calc_info_{}'.format(name))()\n",
      "    NOT AVAILABLE\n",
      "  \n",
      "  Traceback (most recent call last):\n",
      "    File \"<string>\", line 1, in <module>\n",
      "    File \"C:\\Users\\vinay\\AppData\\Local\\Temp\\pip-install-d0ehtdym\\scipy_9de7dc68ab114f778ee9da603d848bee\\setup.py\", line 492, in <module>\n",
      "      setup_package()\n",
      "    File \"C:\\Users\\vinay\\AppData\\Local\\Temp\\pip-install-d0ehtdym\\scipy_9de7dc68ab114f778ee9da603d848bee\\setup.py\", line 488, in setup_package\n",
      "      setup(**metadata)\n",
      "    File \"C:\\Users\\vinay\\Anaconda3\\lib\\site-packages\\numpy\\distutils\\core.py\", line 135, in setup\n",
      "      config = configuration()\n",
      "    File \"C:\\Users\\vinay\\AppData\\Local\\Temp\\pip-install-d0ehtdym\\scipy_9de7dc68ab114f778ee9da603d848bee\\setup.py\", line 395, in configuration\n",
      "      raise NotFoundError(msg)\n",
      "  numpy.distutils.system_info.NotFoundError: No lapack/blas resources found.\n",
      "  ----------------------------------------\n",
      "  ERROR: Failed building wheel for scipy\n",
      "  ERROR: Command errored out with exit status 1:\n",
      "   command: 'C:\\Users\\vinay\\Anaconda3\\python.exe' -u -c 'import sys, setuptools, tokenize; sys.argv[0] = '\"'\"'C:\\\\Users\\\\vinay\\\\AppData\\\\Local\\\\Temp\\\\pip-install-d0ehtdym\\\\scipy_9de7dc68ab114f778ee9da603d848bee\\\\setup.py'\"'\"'; __file__='\"'\"'C:\\\\Users\\\\vinay\\\\AppData\\\\Local\\\\Temp\\\\pip-install-d0ehtdym\\\\scipy_9de7dc68ab114f778ee9da603d848bee\\\\setup.py'\"'\"';f=getattr(tokenize, '\"'\"'open'\"'\"', open)(__file__);code=f.read().replace('\"'\"'\\r\\n'\"'\"', '\"'\"'\\n'\"'\"');f.close();exec(compile(code, __file__, '\"'\"'exec'\"'\"'))' clean --all\n",
      "       cwd: C:\\Users\\vinay\\AppData\\Local\\Temp\\pip-install-d0ehtdym\\scipy_9de7dc68ab114f778ee9da603d848bee\n",
      "  Complete output (9 lines):\n",
      "  \n",
      "  `setup.py clean` is not supported, use one of the following instead:\n",
      "  \n",
      "    - `git clean -xdf` (cleans all files)\n",
      "    - `git clean -Xdf` (cleans all versioned files, doesn't touch\n",
      "                        files that aren't checked into the git repo)\n",
      "  \n",
      "  Add `--force` to your command to use it anyway if you must (unsupported).\n",
      "  \n",
      "  ----------------------------------------\n",
      "  ERROR: Failed cleaning build dir for scipy\n",
      "    ERROR: Command errored out with exit status 1:\n",
      "     command: 'C:\\Users\\vinay\\Anaconda3\\python.exe' -u -c 'import sys, setuptools, tokenize; sys.argv[0] = '\"'\"'C:\\\\Users\\\\vinay\\\\AppData\\\\Local\\\\Temp\\\\pip-install-d0ehtdym\\\\scipy_9de7dc68ab114f778ee9da603d848bee\\\\setup.py'\"'\"'; __file__='\"'\"'C:\\\\Users\\\\vinay\\\\AppData\\\\Local\\\\Temp\\\\pip-install-d0ehtdym\\\\scipy_9de7dc68ab114f778ee9da603d848bee\\\\setup.py'\"'\"';f=getattr(tokenize, '\"'\"'open'\"'\"', open)(__file__);code=f.read().replace('\"'\"'\\r\\n'\"'\"', '\"'\"'\\n'\"'\"');f.close();exec(compile(code, __file__, '\"'\"'exec'\"'\"'))' install --record 'C:\\Users\\vinay\\AppData\\Local\\Temp\\pip-record-8_f9d7nw\\install-record.txt' --single-version-externally-managed --compile --install-headers 'C:\\Users\\vinay\\Anaconda3\\Include\\scipy'\n",
      "         cwd: C:\\Users\\vinay\\AppData\\Local\\Temp\\pip-install-d0ehtdym\\scipy_9de7dc68ab114f778ee9da603d848bee\\\n",
      "    Complete output (143 lines):\n",
      "    \n",
      "    Note: if you need reliable uninstall behavior, then install\n",
      "    with pip instead of using `setup.py install`:\n",
      "    \n",
      "      - `pip install .`       (from a git repo or downloaded source\n",
      "                               release)\n",
      "      - `pip install scipy`   (last SciPy release on PyPI)\n",
      "    \n",
      "    \n",
      "    Running from scipy source directory.\n",
      "    lapack_opt_info:\n",
      "    lapack_mkl_info:\n",
      "    No module named 'numpy.distutils._msvccompiler' in numpy.distutils; trying from distutils\n",
      "    customize MSVCCompiler\n",
      "      libraries mkl_rt not found in ['C:\\\\Users\\\\vinay\\\\Anaconda3\\\\lib', 'C:\\\\', 'C:\\\\Users\\\\vinay\\\\Anaconda3\\\\libs']\n",
      "      NOT AVAILABLE\n",
      "    \n",
      "    openblas_lapack_info:\n",
      "      libraries openblas not found in ['C:\\\\Users\\\\vinay\\\\Anaconda3\\\\lib', 'C:\\\\', 'C:\\\\Users\\\\vinay\\\\Anaconda3\\\\libs']\n",
      "    get_default_fcompiler: matching types: '['gnu', 'intelv', 'absoft', 'compaqv', 'intelev', 'gnu95', 'g95', 'intelvem', 'intelem', 'flang']'\n",
      "    customize GnuFCompiler\n",
      "    Could not locate executable g77\n",
      "    Could not locate executable f77\n",
      "    customize IntelVisualFCompiler\n",
      "    Could not locate executable ifort\n",
      "    Could not locate executable ifl\n",
      "    customize AbsoftFCompiler\n",
      "    Could not locate executable f90\n",
      "    customize CompaqVisualFCompiler\n",
      "    Found executable C:\\Program Files\\Git\\usr\\bin\\DF.exe\n",
      "    Could not locate executable C:\\Program\n",
      "    customize IntelItaniumVisualFCompiler\n",
      "    Could not locate executable efl\n",
      "    customize Gnu95FCompiler\n",
      "    Found executable C:\\Program Files (x86)\\mingw-w64\\i686-8.1.0-posix-dwarf-rt_v6-rev0\\mingw32\\bin\\gfortran.exe\n",
      "    Using built-in specs.\n",
      "    COLLECT_GCC=C:\\Program Files (x86)\\mingw-w64\\i686-8.1.0-posix-dwarf-rt_v6-rev0\\mingw32\\bin\\gfortran.exe\n",
      "    COLLECT_LTO_WRAPPER=C:/Program\\ Files\\ (x86)/mingw-w64/i686-8.1.0-posix-dwarf-rt_v6-rev0/mingw32/bin/../libexec/gcc/i686-w64-mingw32/8.1.0/lto-wrapper.exe\n",
      "    Target: i686-w64-mingw32\n",
      "    Configured with: ../../../src/gcc-8.1.0/configure --host=i686-w64-mingw32 --build=i686-w64-mingw32 --target=i686-w64-mingw32 --prefix=/mingw32 --with-sysroot=/c/mingw810/i686-810-posix-dwarf-rt_v6-rev0/mingw32 --enable-shared --enable-static --disable-multilib --enable-languages=c,c++,fortran,lto --enable-libstdcxx-time=yes --enable-threads=posix --enable-libgomp --enable-libatomic --enable-lto --enable-graphite --enable-checking=release --enable-fully-dynamic-string --enable-version-specific-runtime-libs --disable-sjlj-exceptions --with-dwarf2 --disable-libstdcxx-pch --disable-libstdcxx-debug --enable-bootstrap --disable-rpath --disable-win32-registry --disable-nls --disable-werror --disable-symvers --with-gnu-as --with-gnu-ld --with-arch=i686 --with-tune=generic --with-libiconv --with-system-zlib --with-gmp=/c/mingw810/prerequisites/i686-w64-mingw32-static --with-mpfr=/c/mingw810/prerequisites/i686-w64-mingw32-static --with-mpc=/c/mingw810/prerequisites/i686-w64-mingw32-static --with-isl=/c/mingw810/prerequisites/i686-w64-mingw32-static --with-pkgversion='i686-posix-dwarf-rev0, Built by MinGW-W64 project' --with-bugurl=https://sourceforge.net/projects/mingw-w64 CFLAGS='-O2 -pipe -fno-ident -I/c/mingw810/i686-810-posix-dwarf-rt_v6-rev0/mingw32/opt/include -I/c/mingw810/prerequisites/i686-zlib-static/include -I/c/mingw810/prerequisites/i686-w64-mingw32-static/include' CXXFLAGS='-O2 -pipe -fno-ident -I/c/mingw810/i686-810-posix-dwarf-rt_v6-rev0/mingw32/opt/include -I/c/mingw810/prerequisites/i686-zlib-static/include -I/c/mingw810/prerequisites/i686-w64-mingw32-static/include' CPPFLAGS=' -I/c/mingw810/i686-810-posix-dwarf-rt_v6-rev0/mingw32/opt/include -I/c/mingw810/prerequisites/i686-zlib-static/include -I/c/mingw810/prerequisites/i686-w64-mingw32-static/include' LDFLAGS='-pipe -fno-ident -L/c/mingw810/i686-810-posix-dwarf-rt_v6-rev0/mingw32/opt/lib -L/c/mingw810/prerequisites/i686-zlib-static/lib -L/c/mingw810/prerequisites/i686-w64-mingw32-static/lib -Wl,--large-address-aware'\n",
      "    Thread model: posix\n"
     ]
    },
    {
     "name": "stdout",
     "output_type": "stream",
     "text": [
      "\n",
      "Requirement already satisfied: pandas in c:\\users\\vinay\\anaconda3\\lib\\site-packages (from talos) (1.2.4)\n",
      "Collecting wrangle\n",
      "  Using cached wrangle-0.6.7.tar.gz (25 kB)\n",
      "Requirement already satisfied: requests in c:\\users\\vinay\\anaconda3\\lib\\site-packages (from talos) (2.25.1)\n",
      "Collecting kerasplotlib\n",
      "  Using cached kerasplotlib-0.1.6.tar.gz (3.5 kB)\n",
      "Collecting astetik\n",
      "  Downloading astetik-1.11.1-py3-none-any.whl (5.4 MB)\n",
      "Requirement already satisfied: numpy in c:\\users\\vinay\\anaconda3\\lib\\site-packages (from talos) (1.19.5)\n",
      "Requirement already satisfied: scipy>=1.1 in c:\\users\\vinay\\anaconda3\\lib\\site-packages (from statsmodels>=0.11.0->talos) (1.6.2)\n",
      "Requirement already satisfied: patsy>=0.5 in c:\\users\\vinay\\anaconda3\\lib\\site-packages (from statsmodels>=0.11.0->talos) (0.5.1)\n",
      "Requirement already satisfied: python-dateutil>=2.7.3 in c:\\users\\vinay\\anaconda3\\lib\\site-packages (from pandas->talos) (2.8.1)\n",
      "Requirement already satisfied: pytz>=2017.3 in c:\\users\\vinay\\anaconda3\\lib\\site-packages (from pandas->talos) (2021.1)\n",
      "Requirement already satisfied: six in c:\\users\\vinay\\anaconda3\\lib\\site-packages (from patsy>=0.5->statsmodels>=0.11.0->talos) (1.15.0)\n",
      "Requirement already satisfied: wrapt~=1.12.1 in c:\\users\\vinay\\anaconda3\\lib\\site-packages (from tensorflow>=2.0.0->talos) (1.12.1)\n",
      "Requirement already satisfied: clang~=5.0 in c:\\users\\vinay\\anaconda3\\lib\\site-packages (from tensorflow>=2.0.0->talos) (5.0)\n",
      "Requirement already satisfied: typing-extensions~=3.7.4 in c:\\users\\vinay\\anaconda3\\lib\\site-packages (from tensorflow>=2.0.0->talos) (3.7.4.3)\n",
      "Requirement already satisfied: termcolor~=1.1.0 in c:\\users\\vinay\\anaconda3\\lib\\site-packages (from tensorflow>=2.0.0->talos) (1.1.0)\n",
      "Requirement already satisfied: protobuf>=3.9.2 in c:\\users\\vinay\\anaconda3\\lib\\site-packages (from tensorflow>=2.0.0->talos) (3.17.3)\n",
      "Requirement already satisfied: flatbuffers~=1.12.0 in c:\\users\\vinay\\anaconda3\\lib\\site-packages (from tensorflow>=2.0.0->talos) (1.12)\n",
      "Requirement already satisfied: google-pasta~=0.2 in c:\\users\\vinay\\anaconda3\\lib\\site-packages (from tensorflow>=2.0.0->talos) (0.2.0)\n",
      "Requirement already satisfied: wheel~=0.35 in c:\\users\\vinay\\anaconda3\\lib\\site-packages (from tensorflow>=2.0.0->talos) (0.36.2)\n",
      "Requirement already satisfied: h5py~=3.1.0 in c:\\users\\vinay\\anaconda3\\lib\\site-packages (from tensorflow>=2.0.0->talos) (3.1.0)\n",
      "Requirement already satisfied: keras-preprocessing~=1.1.2 in c:\\users\\vinay\\anaconda3\\lib\\site-packages (from tensorflow>=2.0.0->talos) (1.1.2)\n",
      "Requirement already satisfied: tensorflow-estimator~=2.6 in c:\\users\\vinay\\anaconda3\\lib\\site-packages (from tensorflow>=2.0.0->talos) (2.6.0)\n",
      "Requirement already satisfied: grpcio<2.0,>=1.37.0 in c:\\users\\vinay\\anaconda3\\lib\\site-packages (from tensorflow>=2.0.0->talos) (1.39.0)\n",
      "Requirement already satisfied: keras~=2.6 in c:\\users\\vinay\\anaconda3\\lib\\site-packages (from tensorflow>=2.0.0->talos) (2.6.0)\n",
      "Requirement already satisfied: tensorboard~=2.6 in c:\\users\\vinay\\anaconda3\\lib\\site-packages (from tensorflow>=2.0.0->talos) (2.6.0)\n",
      "Requirement already satisfied: absl-py~=0.10 in c:\\users\\vinay\\anaconda3\\lib\\site-packages (from tensorflow>=2.0.0->talos) (0.13.0)\n",
      "Requirement already satisfied: opt-einsum~=3.3.0 in c:\\users\\vinay\\anaconda3\\lib\\site-packages (from tensorflow>=2.0.0->talos) (3.3.0)\n",
      "Requirement already satisfied: gast==0.4.0 in c:\\users\\vinay\\anaconda3\\lib\\site-packages (from tensorflow>=2.0.0->talos) (0.4.0)\n",
      "Requirement already satisfied: astunparse~=1.6.3 in c:\\users\\vinay\\anaconda3\\lib\\site-packages (from tensorflow>=2.0.0->talos) (1.6.3)\n",
      "Requirement already satisfied: markdown>=2.6.8 in c:\\users\\vinay\\anaconda3\\lib\\site-packages (from tensorboard~=2.6->tensorflow>=2.0.0->talos) (3.3.4)\n",
      "Requirement already satisfied: setuptools>=41.0.0 in c:\\users\\vinay\\anaconda3\\lib\\site-packages (from tensorboard~=2.6->tensorflow>=2.0.0->talos) (52.0.0.post20210125)\n",
      "Requirement already satisfied: tensorboard-plugin-wit>=1.6.0 in c:\\users\\vinay\\anaconda3\\lib\\site-packages (from tensorboard~=2.6->tensorflow>=2.0.0->talos) (1.8.0)\n",
      "Requirement already satisfied: google-auth<2,>=1.6.3 in c:\\users\\vinay\\anaconda3\\lib\\site-packages (from tensorboard~=2.6->tensorflow>=2.0.0->talos) (1.35.0)\n",
      "Requirement already satisfied: google-auth-oauthlib<0.5,>=0.4.1 in c:\\users\\vinay\\anaconda3\\lib\\site-packages (from tensorboard~=2.6->tensorflow>=2.0.0->talos) (0.4.5)\n",
      "Requirement already satisfied: werkzeug>=0.11.15 in c:\\users\\vinay\\anaconda3\\lib\\site-packages (from tensorboard~=2.6->tensorflow>=2.0.0->talos) (1.0.1)\n",
      "Requirement already satisfied: tensorboard-data-server<0.7.0,>=0.6.0 in c:\\users\\vinay\\anaconda3\\lib\\site-packages (from tensorboard~=2.6->tensorflow>=2.0.0->talos) (0.6.1)\n",
      "Requirement already satisfied: cachetools<5.0,>=2.0.0 in c:\\users\\vinay\\anaconda3\\lib\\site-packages (from google-auth<2,>=1.6.3->tensorboard~=2.6->tensorflow>=2.0.0->talos) (4.2.2)\n",
      "Requirement already satisfied: rsa<5,>=3.1.4 in c:\\users\\vinay\\anaconda3\\lib\\site-packages (from google-auth<2,>=1.6.3->tensorboard~=2.6->tensorflow>=2.0.0->talos) (4.7.2)\n",
      "Requirement already satisfied: pyasn1-modules>=0.2.1 in c:\\users\\vinay\\anaconda3\\lib\\site-packages (from google-auth<2,>=1.6.3->tensorboard~=2.6->tensorflow>=2.0.0->talos) (0.2.8)\n",
      "Requirement already satisfied: requests-oauthlib>=0.7.0 in c:\\users\\vinay\\anaconda3\\lib\\site-packages (from google-auth-oauthlib<0.5,>=0.4.1->tensorboard~=2.6->tensorflow>=2.0.0->talos) (1.3.0)\n",
      "Requirement already satisfied: pyasn1<0.5.0,>=0.4.6 in c:\\users\\vinay\\anaconda3\\lib\\site-packages (from pyasn1-modules>=0.2.1->google-auth<2,>=1.6.3->tensorboard~=2.6->tensorflow>=2.0.0->talos) (0.4.8)\n",
      "Requirement already satisfied: idna<3,>=2.5 in c:\\users\\vinay\\anaconda3\\lib\\site-packages (from requests->talos) (2.10)\n",
      "Requirement already satisfied: certifi>=2017.4.17 in c:\\users\\vinay\\anaconda3\\lib\\site-packages (from requests->talos) (2020.12.5)\n",
      "Requirement already satisfied: chardet<5,>=3.0.2 in c:\\users\\vinay\\anaconda3\\lib\\site-packages (from requests->talos) (4.0.0)\n",
      "Requirement already satisfied: urllib3<1.27,>=1.21.1 in c:\\users\\vinay\\anaconda3\\lib\\site-packages (from requests->talos) (1.26.4)\n",
      "Requirement already satisfied: oauthlib>=3.0.0 in c:\\users\\vinay\\anaconda3\\lib\\site-packages (from requests-oauthlib>=0.7.0->google-auth-oauthlib<0.5,>=0.4.1->tensorboard~=2.6->tensorflow>=2.0.0->talos) (3.1.1)\n",
      "Requirement already satisfied: seaborn in c:\\users\\vinay\\anaconda3\\lib\\site-packages (from astetik->talos) (0.11.1)\n",
      "Collecting geonamescache\n",
      "  Downloading geonamescache-1.2.0-py3-none-any.whl (2.6 MB)\n"
     ]
    },
    {
     "name": "stderr",
     "output_type": "stream",
     "text": [
      "    gcc version 8.1.0 (i686-posix-dwarf-rev0, Built by MinGW-W64 project)\n",
      "      NOT AVAILABLE\n",
      "    \n",
      "    openblas_clapack_info:\n",
      "      libraries openblas,lapack not found in ['C:\\\\Users\\\\vinay\\\\Anaconda3\\\\lib', 'C:\\\\', 'C:\\\\Users\\\\vinay\\\\Anaconda3\\\\libs']\n",
      "    get_default_fcompiler: matching types: '['gnu', 'intelv', 'absoft', 'compaqv', 'intelev', 'gnu95', 'g95', 'intelvem', 'intelem', 'flang']'\n",
      "    customize GnuFCompiler\n",
      "    customize IntelVisualFCompiler\n",
      "    customize AbsoftFCompiler\n",
      "    customize CompaqVisualFCompiler\n",
      "    customize IntelItaniumVisualFCompiler\n",
      "    customize Gnu95FCompiler\n",
      "    Using built-in specs.\n",
      "    COLLECT_GCC=C:\\Program Files (x86)\\mingw-w64\\i686-8.1.0-posix-dwarf-rt_v6-rev0\\mingw32\\bin\\gfortran.exe\n",
      "    COLLECT_LTO_WRAPPER=C:/Program\\ Files\\ (x86)/mingw-w64/i686-8.1.0-posix-dwarf-rt_v6-rev0/mingw32/bin/../libexec/gcc/i686-w64-mingw32/8.1.0/lto-wrapper.exe\n",
      "    Target: i686-w64-mingw32\n",
      "    Configured with: ../../../src/gcc-8.1.0/configure --host=i686-w64-mingw32 --build=i686-w64-mingw32 --target=i686-w64-mingw32 --prefix=/mingw32 --with-sysroot=/c/mingw810/i686-810-posix-dwarf-rt_v6-rev0/mingw32 --enable-shared --enable-static --disable-multilib --enable-languages=c,c++,fortran,lto --enable-libstdcxx-time=yes --enable-threads=posix --enable-libgomp --enable-libatomic --enable-lto --enable-graphite --enable-checking=release --enable-fully-dynamic-string --enable-version-specific-runtime-libs --disable-sjlj-exceptions --with-dwarf2 --disable-libstdcxx-pch --disable-libstdcxx-debug --enable-bootstrap --disable-rpath --disable-win32-registry --disable-nls --disable-werror --disable-symvers --with-gnu-as --with-gnu-ld --with-arch=i686 --with-tune=generic --with-libiconv --with-system-zlib --with-gmp=/c/mingw810/prerequisites/i686-w64-mingw32-static --with-mpfr=/c/mingw810/prerequisites/i686-w64-mingw32-static --with-mpc=/c/mingw810/prerequisites/i686-w64-mingw32-static --with-isl=/c/mingw810/prerequisites/i686-w64-mingw32-static --with-pkgversion='i686-posix-dwarf-rev0, Built by MinGW-W64 project' --with-bugurl=https://sourceforge.net/projects/mingw-w64 CFLAGS='-O2 -pipe -fno-ident -I/c/mingw810/i686-810-posix-dwarf-rt_v6-rev0/mingw32/opt/include -I/c/mingw810/prerequisites/i686-zlib-static/include -I/c/mingw810/prerequisites/i686-w64-mingw32-static/include' CXXFLAGS='-O2 -pipe -fno-ident -I/c/mingw810/i686-810-posix-dwarf-rt_v6-rev0/mingw32/opt/include -I/c/mingw810/prerequisites/i686-zlib-static/include -I/c/mingw810/prerequisites/i686-w64-mingw32-static/include' CPPFLAGS=' -I/c/mingw810/i686-810-posix-dwarf-rt_v6-rev0/mingw32/opt/include -I/c/mingw810/prerequisites/i686-zlib-static/include -I/c/mingw810/prerequisites/i686-w64-mingw32-static/include' LDFLAGS='-pipe -fno-ident -L/c/mingw810/i686-810-posix-dwarf-rt_v6-rev0/mingw32/opt/lib -L/c/mingw810/prerequisites/i686-zlib-static/lib -L/c/mingw810/prerequisites/i686-w64-mingw32-static/lib -Wl,--large-address-aware'\n",
      "    Thread model: posix\n",
      "    gcc version 8.1.0 (i686-posix-dwarf-rev0, Built by MinGW-W64 project)\n",
      "      NOT AVAILABLE\n",
      "    \n",
      "    flame_info:\n",
      "      libraries flame not found in ['C:\\\\Users\\\\vinay\\\\Anaconda3\\\\lib', 'C:\\\\', 'C:\\\\Users\\\\vinay\\\\Anaconda3\\\\libs']\n",
      "      NOT AVAILABLE\n",
      "    \n",
      "    atlas_3_10_threads_info:\n",
      "    Setting PTATLAS=ATLAS\n",
      "      libraries lapack_atlas not found in C:\\Users\\vinay\\Anaconda3\\lib\n",
      "      libraries tatlas,tatlas not found in C:\\Users\\vinay\\Anaconda3\\lib\n",
      "      libraries lapack_atlas not found in C:\\\n",
      "      libraries tatlas,tatlas not found in C:\\\n",
      "      libraries lapack_atlas not found in C:\\Users\\vinay\\Anaconda3\\libs\n",
      "      libraries tatlas,tatlas not found in C:\\Users\\vinay\\Anaconda3\\libs\n",
      "    <class 'numpy.distutils.system_info.atlas_3_10_threads_info'>\n",
      "      NOT AVAILABLE\n",
      "    \n",
      "    atlas_3_10_info:\n",
      "      libraries lapack_atlas not found in C:\\Users\\vinay\\Anaconda3\\lib\n",
      "      libraries satlas,satlas not found in C:\\Users\\vinay\\Anaconda3\\lib\n",
      "      libraries lapack_atlas not found in C:\\\n",
      "      libraries satlas,satlas not found in C:\\\n",
      "      libraries lapack_atlas not found in C:\\Users\\vinay\\Anaconda3\\libs\n",
      "      libraries satlas,satlas not found in C:\\Users\\vinay\\Anaconda3\\libs\n",
      "    <class 'numpy.distutils.system_info.atlas_3_10_info'>\n",
      "      NOT AVAILABLE\n",
      "    \n",
      "    atlas_threads_info:\n",
      "    Setting PTATLAS=ATLAS\n",
      "      libraries lapack_atlas not found in C:\\Users\\vinay\\Anaconda3\\lib\n",
      "      libraries ptf77blas,ptcblas,atlas not found in C:\\Users\\vinay\\Anaconda3\\lib\n",
      "      libraries lapack_atlas not found in C:\\\n",
      "      libraries ptf77blas,ptcblas,atlas not found in C:\\\n",
      "      libraries lapack_atlas not found in C:\\Users\\vinay\\Anaconda3\\libs\n",
      "      libraries ptf77blas,ptcblas,atlas not found in C:\\Users\\vinay\\Anaconda3\\libs\n",
      "    <class 'numpy.distutils.system_info.atlas_threads_info'>\n",
      "      NOT AVAILABLE\n",
      "    \n",
      "    atlas_info:\n",
      "      libraries lapack_atlas not found in C:\\Users\\vinay\\Anaconda3\\lib\n",
      "      libraries f77blas,cblas,atlas not found in C:\\Users\\vinay\\Anaconda3\\lib\n",
      "      libraries lapack_atlas not found in C:\\\n",
      "      libraries f77blas,cblas,atlas not found in C:\\\n",
      "      libraries lapack_atlas not found in C:\\Users\\vinay\\Anaconda3\\libs\n",
      "      libraries f77blas,cblas,atlas not found in C:\\Users\\vinay\\Anaconda3\\libs\n",
      "    <class 'numpy.distutils.system_info.atlas_info'>\n",
      "      NOT AVAILABLE\n",
      "    \n",
      "    accelerate_info:\n",
      "      NOT AVAILABLE\n",
      "    \n",
      "    lapack_info:\n",
      "      libraries lapack not found in ['C:\\\\Users\\\\vinay\\\\Anaconda3\\\\lib', 'C:\\\\', 'C:\\\\Users\\\\vinay\\\\Anaconda3\\\\libs']\n",
      "      NOT AVAILABLE\n",
      "    \n",
      "    C:\\Users\\vinay\\Anaconda3\\lib\\site-packages\\numpy\\distutils\\system_info.py:1748: UserWarning:\n",
      "        Lapack (http://www.netlib.org/lapack/) libraries not found.\n",
      "        Directories to search for the libraries can be specified in the\n",
      "        numpy/distutils/site.cfg file (section [lapack]) or by setting\n",
      "        the LAPACK environment variable.\n",
      "      return getattr(self, '_calc_info_{}'.format(name))()\n",
      "    lapack_src_info:\n",
      "      NOT AVAILABLE\n",
      "    \n",
      "    C:\\Users\\vinay\\Anaconda3\\lib\\site-packages\\numpy\\distutils\\system_info.py:1748: UserWarning:\n",
      "        Lapack (http://www.netlib.org/lapack/) sources not found.\n",
      "        Directories to search for the sources can be specified in the\n",
      "        numpy/distutils/site.cfg file (section [lapack_src]) or by setting\n",
      "        the LAPACK_SRC environment variable.\n",
      "      return getattr(self, '_calc_info_{}'.format(name))()\n",
      "      NOT AVAILABLE\n",
      "    \n",
      "    Traceback (most recent call last):\n",
      "      File \"<string>\", line 1, in <module>\n",
      "      File \"C:\\Users\\vinay\\AppData\\Local\\Temp\\pip-install-d0ehtdym\\scipy_9de7dc68ab114f778ee9da603d848bee\\setup.py\", line 492, in <module>\n",
      "        setup_package()\n",
      "      File \"C:\\Users\\vinay\\AppData\\Local\\Temp\\pip-install-d0ehtdym\\scipy_9de7dc68ab114f778ee9da603d848bee\\setup.py\", line 488, in setup_package\n",
      "        setup(**metadata)\n",
      "      File \"C:\\Users\\vinay\\Anaconda3\\lib\\site-packages\\numpy\\distutils\\core.py\", line 135, in setup\n",
      "        config = configuration()\n",
      "      File \"C:\\Users\\vinay\\AppData\\Local\\Temp\\pip-install-d0ehtdym\\scipy_9de7dc68ab114f778ee9da603d848bee\\setup.py\", line 395, in configuration\n",
      "        raise NotFoundError(msg)\n",
      "    numpy.distutils.system_info.NotFoundError: No lapack/blas resources found."
     ]
    }
   ],
   "source": [
    "!pip install talos"
   ]
  },
  {
   "cell_type": "code",
   "execution_count": null,
   "metadata": {
    "ExecuteTime": {
     "end_time": "2021-09-06T17:18:16.106671Z",
     "start_time": "2021-09-06T17:18:03.695071Z"
    }
   },
   "outputs": [
    {
     "name": "stdout",
     "output_type": "stream",
     "text": [
      "Requirement already satisfied: IPython in c:\\users\\vinay\\anaconda3\\lib\\site-packages (from astetik->talos) (7.22.0)\n",
      "Requirement already satisfied: decorator in c:\\users\\vinay\\anaconda3\\lib\\site-packages (from IPython->astetik->talos) (5.0.6)\n",
      "Requirement already satisfied: pickleshare in c:\\users\\vinay\\anaconda3\\lib\\site-packages (from IPython->astetik->talos) (0.7.5)\n",
      "Requirement already satisfied: pygments in c:\\users\\vinay\\anaconda3\\lib\\site-packages (from IPython->astetik->talos) (2.8.1)\n",
      "Requirement already satisfied: backcall in c:\\users\\vinay\\anaconda3\\lib\\site-packages (from IPython->astetik->talos) (0.2.0)\n",
      "Requirement already satisfied: colorama in c:\\users\\vinay\\anaconda3\\lib\\site-packages (from IPython->astetik->talos) (0.4.4)\n",
      "Requirement already satisfied: prompt-toolkit!=3.0.0,!=3.0.1,<3.1.0,>=2.0.0 in c:\\users\\vinay\\anaconda3\\lib\\site-packages (from IPython->astetik->talos) (3.0.17)\n",
      "Requirement already satisfied: jedi>=0.16 in c:\\users\\vinay\\anaconda3\\lib\\site-packages (from IPython->astetik->talos) (0.17.2)\n",
      "Requirement already satisfied: traitlets>=4.2 in c:\\users\\vinay\\anaconda3\\lib\\site-packages (from IPython->astetik->talos) (5.0.5)\n",
      "Requirement already satisfied: parso<0.8.0,>=0.7.0 in c:\\users\\vinay\\anaconda3\\lib\\site-packages (from jedi>=0.16->IPython->astetik->talos) (0.7.0)\n",
      "Requirement already satisfied: wcwidth in c:\\users\\vinay\\anaconda3\\lib\\site-packages (from prompt-toolkit!=3.0.0,!=3.0.1,<3.1.0,>=2.0.0->IPython->astetik->talos) (0.2.5)\n",
      "Requirement already satisfied: ipython-genutils in c:\\users\\vinay\\anaconda3\\lib\\site-packages (from traitlets>=4.2->IPython->astetik->talos) (0.2.0)\n",
      "Requirement already satisfied: matplotlib>=2.2 in c:\\users\\vinay\\anaconda3\\lib\\site-packages (from seaborn->astetik->talos) (3.3.4)\n",
      "Requirement already satisfied: cycler>=0.10 in c:\\users\\vinay\\anaconda3\\lib\\site-packages (from matplotlib>=2.2->seaborn->astetik->talos) (0.10.0)\n",
      "Requirement already satisfied: pyparsing!=2.0.4,!=2.1.2,!=2.1.6,>=2.0.3 in c:\\users\\vinay\\anaconda3\\lib\\site-packages (from matplotlib>=2.2->seaborn->astetik->talos) (2.4.7)\n",
      "Requirement already satisfied: pillow>=6.2.0 in c:\\users\\vinay\\anaconda3\\lib\\site-packages (from matplotlib>=2.2->seaborn->astetik->talos) (8.2.0)\n",
      "Requirement already satisfied: kiwisolver>=1.0.1 in c:\\users\\vinay\\anaconda3\\lib\\site-packages (from matplotlib>=2.2->seaborn->astetik->talos) (1.3.1)\n",
      "Requirement already satisfied: scikit-learn in c:\\users\\vinay\\anaconda3\\lib\\site-packages (from sklearn->talos) (0.24.1)\n",
      "Requirement already satisfied: threadpoolctl>=2.0.0 in c:\\users\\vinay\\anaconda3\\lib\\site-packages (from scikit-learn->sklearn->talos) (2.1.0)\n",
      "Requirement already satisfied: joblib>=0.11 in c:\\users\\vinay\\anaconda3\\lib\\site-packages (from scikit-learn->sklearn->talos) (1.0.1)\n",
      "Collecting scipy>=1.1\n",
      "  Downloading scipy-1.2.0.tar.gz (23.3 MB)\n",
      "Building wheels for collected packages: chances, kerasplotlib, sklearn, wrangle, scipy\n",
      "  Building wheel for chances (setup.py): started\n",
      "  Building wheel for chances (setup.py): finished with status 'done'\n",
      "  Created wheel for chances: filename=chances-0.1.9-py3-none-any.whl size=41608 sha256=2b8b677f1391b10a4d1ca742fc08ebea3c81812fda102ba6dedb215479b50915\n",
      "  Stored in directory: c:\\users\\vinay\\appdata\\local\\pip\\cache\\wheels\\bc\\47\\dc\\208d4038848287f804b6ededf43632ba7dbea530fdb3a069e4\n",
      "  Building wheel for kerasplotlib (setup.py): started\n",
      "  Building wheel for kerasplotlib (setup.py): finished with status 'done'\n",
      "  Created wheel for kerasplotlib: filename=kerasplotlib-0.1.6-py3-none-any.whl size=3601 sha256=a56667c0ddca3b695d3e8c6f3e8c773d321d9fd7f5e24a8ea17b5420bb7fbeae\n",
      "  Stored in directory: c:\\users\\vinay\\appdata\\local\\pip\\cache\\wheels\\49\\f1\\a2\\c1a52cd15ac3769ed9f4e8c7a22b575f82197a49123b29630b\n",
      "  Building wheel for sklearn (setup.py): started\n",
      "  Building wheel for sklearn (setup.py): finished with status 'done'\n",
      "  Created wheel for sklearn: filename=sklearn-0.0-py2.py3-none-any.whl size=1316 sha256=d4c06083058bb710beeee5361598cf52af27bf3c38aef8aae795f5695ed8b4a8\n",
      "  Stored in directory: c:\\users\\vinay\\appdata\\local\\pip\\cache\\wheels\\22\\0b\\40\\fd3f795caaa1fb4c6cb738bc1f56100be1e57da95849bfc897\n",
      "  Building wheel for wrangle (setup.py): started\n",
      "  Building wheel for wrangle (setup.py): finished with status 'done'\n",
      "  Created wheel for wrangle: filename=wrangle-0.6.7-py3-none-any.whl size=49894 sha256=4bb50047810977c5d0a35d6f13cea81698b1b98c09d8973475f98cc99853a75b\n",
      "  Stored in directory: c:\\users\\vinay\\appdata\\local\\pip\\cache\\wheels\\1e\\dc\\3d\\4698ee92cce8bd2c64eccfb7886540c53fb3cebe43d0ca1fb1\n",
      "  Building wheel for scipy (setup.py): started\n",
      "  Building wheel for scipy (setup.py): finished with status 'error'\n",
      "  Running setup.py clean for scipy\n",
      "Successfully built chances kerasplotlib sklearn wrangle\n",
      "Failed to build scipy\n",
      "Installing collected packages: scipy, sklearn, wrangle, geonamescache, tensorflow, kerasplotlib, chances, astetik, talos\n",
      "  Attempting uninstall: scipy\n",
      "    Found existing installation: scipy 1.6.2\n",
      "    Uninstalling scipy-1.6.2:\n",
      "      Successfully uninstalled scipy-1.6.2\n",
      "    Running setup.py install for scipy: started\n",
      "    Running setup.py install for scipy: finished with status 'error'\n",
      "  Rolling back uninstall of scipy\n",
      "  Moving to c:\\users\\vinay\\anaconda3\\lib\\site-packages\\scipy-1.6.2.dist-info\\\n",
      "   from C:\\Users\\vinay\\Anaconda3\\Lib\\site-packages\\~cipy-1.6.2.dist-info\n",
      "  Moving to c:\\users\\vinay\\anaconda3\\lib\\site-packages\\scipy\\\n",
      "   from C:\\Users\\vinay\\Anaconda3\\Lib\\site-packages\\~cipy\n"
     ]
    },
    {
     "name": "stderr",
     "output_type": "stream",
     "text": [
      "\n",
      "    ----------------------------------------\n",
      "ERROR: Command errored out with exit status 1: 'C:\\Users\\vinay\\Anaconda3\\python.exe' -u -c 'import sys, setuptools, tokenize; sys.argv[0] = '\"'\"'C:\\\\Users\\\\vinay\\\\AppData\\\\Local\\\\Temp\\\\pip-install-d0ehtdym\\\\scipy_9de7dc68ab114f778ee9da603d848bee\\\\setup.py'\"'\"'; __file__='\"'\"'C:\\\\Users\\\\vinay\\\\AppData\\\\Local\\\\Temp\\\\pip-install-d0ehtdym\\\\scipy_9de7dc68ab114f778ee9da603d848bee\\\\setup.py'\"'\"';f=getattr(tokenize, '\"'\"'open'\"'\"', open)(__file__);code=f.read().replace('\"'\"'\\r\\n'\"'\"', '\"'\"'\\n'\"'\"');f.close();exec(compile(code, __file__, '\"'\"'exec'\"'\"'))' install --record 'C:\\Users\\vinay\\AppData\\Local\\Temp\\pip-record-8_f9d7nw\\install-record.txt' --single-version-externally-managed --compile --install-headers 'C:\\Users\\vinay\\Anaconda3\\Include\\scipy' Check the logs for full command output.\n"
     ]
    }
   ],
   "source": [
    "conda install distributed=2021.4.0"
   ]
  },
  {
   "cell_type": "code",
   "execution_count": null,
   "metadata": {
    "ExecuteTime": {
     "end_time": "2021-09-06T17:50:30.925560Z",
     "start_time": "2021-09-06T17:50:30.917779Z"
    }
   },
   "outputs": [],
   "source": [
    "import pandas as pd\n",
    "import numpy as np\n",
    "import matplotlib.pyplot as plt\n",
    "import keras\n",
    "import os\n",
    "from keras.preprocessing.image import ImageDataGenerator, array_to_img, img_to_array, load_img\n",
    "import random\n",
    "from sklearn.model_selection import train_test_split\n",
    "from keras import layers\n",
    "from keras.models import Sequential\n",
    "from keras.layers import Dense, Dropout, Flatten\n",
    "from keras.layers import Conv2D, MaxPooling2D\n",
    "from keras.preprocessing import image\n",
    "import talos\n",
    "\n",
    "np.random.seed(123)"
   ]
  },
  {
   "cell_type": "code",
   "execution_count": null,
   "metadata": {
    "ExecuteTime": {
     "end_time": "2021-09-06T17:18:23.034981Z",
     "start_time": "2021-09-06T17:18:23.032271Z"
    }
   },
   "outputs": [],
   "source": [
    "test_folder = '/Users/abdullahaldaffaie/Documents/Flatiron_Curriculum /Flatiron_Projects/phase_4/chest_xray/test'\n",
    "train_folder = '/Users/abdullahaldaffaie/Documents/Flatiron_Curriculum /Flatiron_Projects/phase_4/chest_xray/train'\n",
    "val_folder = '/Users/abdullahaldaffaie/Documents/Flatiron_Curriculum /Flatiron_Projects/phase_4/chest_xray/val'"
   ]
  },
  {
   "cell_type": "code",
   "execution_count": null,
   "metadata": {
    "ExecuteTime": {
     "end_time": "2021-09-06T17:18:23.234021Z",
     "start_time": "2021-09-06T17:18:23.038538Z"
    }
   },
   "outputs": [],
   "source": [
    "test_generator = ImageDataGenerator(rescale=1./255).flow_from_directory(\n",
    "        test_folder, \n",
    "        target_size=(80, 80),\n",
    "        batch_size = 624,\n",
    "        class_mode='binary') \n",
    "\n",
    "train_generator = ImageDataGenerator(rescale=1./255).flow_from_directory(\n",
    "        train_folder, \n",
    "        target_size=(80, 80),\n",
    "        batch_size= 5216,\n",
    "        class_mode='binary')\n",
    "\n",
    "val_generator = ImageDataGenerator(rescale=1./255).flow_from_directory(\n",
    "        val_folder, \n",
    "        target_size=(80, 80),\n",
    "        batch_size = 16,\n",
    "        class_mode='binary')\n",
    "\n"
   ]
  },
  {
   "cell_type": "code",
   "execution_count": null,
   "metadata": {
    "ExecuteTime": {
     "end_time": "2021-09-06T17:19:26.585219Z",
     "start_time": "2021-09-06T17:18:23.236224Z"
    }
   },
   "outputs": [],
   "source": [
    "train_images, train_labels = next(train_generator)\n",
    "test_images, test_labels = next(test_generator)\n",
    "val_images, val_labels = next(val_generator)"
   ]
  },
  {
   "cell_type": "code",
   "execution_count": null,
   "metadata": {
    "ExecuteTime": {
     "end_time": "2021-09-06T17:19:26.590850Z",
     "start_time": "2021-09-06T17:19:26.587060Z"
    }
   },
   "outputs": [],
   "source": [
    "print(train_images.shape)\n",
    "print(test_images.shape)\n",
    "print(val_images.shape)\n",
    "print(train_labels.shape)\n",
    "print(test_labels.shape)\n",
    "print(val_labels.shape)"
   ]
  },
  {
   "cell_type": "code",
   "execution_count": null,
   "metadata": {
    "ExecuteTime": {
     "end_time": "2021-09-06T17:19:26.604083Z",
     "start_time": "2021-09-06T17:19:26.597741Z"
    }
   },
   "outputs": [],
   "source": [
    "train_generator.class_indices "
   ]
  },
  {
   "cell_type": "code",
   "execution_count": null,
   "metadata": {
    "ExecuteTime": {
     "end_time": "2021-09-06T17:19:26.610658Z",
     "start_time": "2021-09-06T17:19:26.607014Z"
    }
   },
   "outputs": [],
   "source": [
    "test_generator.class_indices "
   ]
  },
  {
   "cell_type": "code",
   "execution_count": null,
   "metadata": {
    "ExecuteTime": {
     "end_time": "2021-09-06T17:19:26.619227Z",
     "start_time": "2021-09-06T17:19:26.612800Z"
    }
   },
   "outputs": [],
   "source": [
    "val_generator.class_indices"
   ]
  },
  {
   "cell_type": "code",
   "execution_count": null,
   "metadata": {
    "ExecuteTime": {
     "end_time": "2021-09-06T17:19:26.624639Z",
     "start_time": "2021-09-06T17:19:26.621765Z"
    }
   },
   "outputs": [],
   "source": [
    "train_img = train_images.reshape(train_images.shape[0], -1)\n",
    "test_img = test_images.reshape(test_images.shape[0], -1)"
   ]
  },
  {
   "cell_type": "code",
   "execution_count": null,
   "metadata": {
    "ExecuteTime": {
     "end_time": "2021-09-06T17:19:26.629713Z",
     "start_time": "2021-09-06T17:19:26.626513Z"
    }
   },
   "outputs": [],
   "source": [
    "print(train_img.shape)\n",
    "print(test_img.shape)"
   ]
  },
  {
   "cell_type": "code",
   "execution_count": null,
   "metadata": {
    "ExecuteTime": {
     "end_time": "2021-09-06T17:19:26.638006Z",
     "start_time": "2021-09-06T17:19:26.632767Z"
    }
   },
   "outputs": [],
   "source": [
    "train_y = np.reshape(train_labels[:], (5216,1))\n",
    "test_y = np.reshape(test_labels[:], (624,1))\n",
    "print(test_y.shape)\n",
    "print(train_y.shape)"
   ]
  },
  {
   "cell_type": "code",
   "execution_count": null,
   "metadata": {
    "ExecuteTime": {
     "end_time": "2021-09-06T17:19:26.827859Z",
     "start_time": "2021-09-06T17:19:26.640480Z"
    }
   },
   "outputs": [],
   "source": [
    "sample_image = train_images[0]\n",
    "sample_label = train_labels[0]\n",
    "display(plt.imshow(sample_image))\n",
    "print('Label: {}'.format(sample_label))"
   ]
  },
  {
   "cell_type": "code",
   "execution_count": null,
   "metadata": {
    "ExecuteTime": {
     "end_time": "2021-09-06T17:19:26.835221Z",
     "start_time": "2021-09-06T17:19:26.829910Z"
    }
   },
   "outputs": [],
   "source": [
    "array_to_img(train_images[0])"
   ]
  },
  {
   "cell_type": "code",
   "execution_count": null,
   "metadata": {
    "ExecuteTime": {
     "end_time": "2021-09-06T17:19:26.843236Z",
     "start_time": "2021-09-06T17:19:26.836737Z"
    }
   },
   "outputs": [],
   "source": [
    "array_to_img(train_images[10])"
   ]
  },
  {
   "cell_type": "code",
   "execution_count": null,
   "metadata": {
    "ExecuteTime": {
     "end_time": "2021-09-07T18:08:15.329869Z",
     "start_time": "2021-09-07T18:08:15.321277Z"
    }
   },
   "outputs": [],
   "source": [
    "def cnn_model(train_img, train_y, test_img, test_y, params):\n",
    "\n",
    "    model = Sequential()\n",
    "\n",
    "    # hidden layers\n",
    "#    model.add(layers.Conv2D(params['nodes_cnn'], (3, 3),\n",
    " #                           activation= params['activation_cnn'],\n",
    " #                       input_shape=(80, 80, 3)))\n",
    "#    model.add(layers.MaxPooling2D((2, 2)))\n",
    " #   model.add(layers.Flatten())\n",
    " #   model.add(layers.Dropout(params['dropout']))\n",
    "\n",
    "    model.add(layers.Dense(params['nodes_dense'],\n",
    "                           activation= params['activation_dense'], input_dim= 19200,))\n",
    "    model.add(layers.Dense(1, activation='sigmoid'))\n",
    "\n",
    "\n",
    "    model.compile(loss='binary_crossentropy',\n",
    "                  optimizer=params['optimizer'],\n",
    "                  metrics=['accuracy'])\n",
    "    \n",
    "    out = model.fit(train_img, train_y, \n",
    "                        validation_data= (test_img, test_y),\n",
    "                        batch_size=50,\n",
    "                        epochs=10,\n",
    "                        verbose=0)\n",
    "\n",
    "    return out, model"
   ]
  },
  {
   "cell_type": "code",
   "execution_count": null,
   "metadata": {
    "ExecuteTime": {
     "end_time": "2021-09-07T18:08:16.465379Z",
     "start_time": "2021-09-07T18:08:16.461144Z"
    }
   },
   "outputs": [],
   "source": [
    "print(train_img.shape)\n",
    "print(test_img.shape)\n",
    "print(train_y.shape)\n",
    "print(test_y.shape)"
   ]
  },
  {
   "cell_type": "code",
   "execution_count": null,
   "metadata": {
    "ExecuteTime": {
     "end_time": "2021-09-07T18:08:17.814222Z",
     "start_time": "2021-09-07T18:08:17.809117Z"
    }
   },
   "outputs": [],
   "source": [
    "params = {'dropout': [0.1, 0.25, 0.5],\n",
    "          'nodes_cnn':[32, 64,128],\n",
    "          'nodes_dense': [12, 20, 100],\n",
    "          'optimizer': ['adam', 'sgd'], \n",
    "          'activation_cnn': ['relu', 'softmax'], \n",
    "          'activation_dense': ['relu', 'elu']}"
   ]
  },
  {
   "cell_type": "code",
   "execution_count": null,
   "metadata": {
    "ExecuteTime": {
     "end_time": "2021-09-07T18:26:22.546560Z",
     "start_time": "2021-09-07T18:08:19.861603Z"
    }
   },
   "outputs": [],
   "source": [
    "results = talos.Scan(train_img, train_y, \n",
    "                     params=params,\n",
    "                     model= cnn_model,\n",
    "                     experiment_name='grid')\n"
   ]
  },
  {
   "cell_type": "code",
   "execution_count": null,
   "metadata": {
    "ExecuteTime": {
     "end_time": "2021-09-07T18:30:33.540343Z",
     "start_time": "2021-09-07T18:30:33.399553Z"
    }
   },
   "outputs": [],
   "source": [
    "results.best_model('accuracy')"
   ]
  },
  {
   "cell_type": "code",
   "execution_count": null,
   "metadata": {
    "ExecuteTime": {
     "end_time": "2021-09-07T18:33:04.534520Z",
     "start_time": "2021-09-07T18:33:04.422514Z"
    }
   },
   "outputs": [],
   "source": [
    "pd.read_csv('grid/090721120819.csv').sort_values('val_accuracy', ascending=False)"
   ]
  },
  {
   "cell_type": "code",
   "execution_count": null,
   "metadata": {},
   "outputs": [],
   "source": []
  }
 ],
 "metadata": {
  "kernelspec": {
   "display_name": "Python 3",
   "language": "python",
   "name": "python3"
  },
  "language_info": {
   "codemirror_mode": {
    "name": "ipython",
    "version": 3
   },
   "file_extension": ".py",
   "mimetype": "text/x-python",
   "name": "python",
   "nbconvert_exporter": "python",
   "pygments_lexer": "ipython3",
   "version": "3.8.8"
  },
  "toc": {
   "base_numbering": 1,
   "nav_menu": {},
   "number_sections": true,
   "sideBar": true,
   "skip_h1_title": false,
   "title_cell": "Table of Contents",
   "title_sidebar": "Contents",
   "toc_cell": false,
   "toc_position": {},
   "toc_section_display": true,
   "toc_window_display": false
  },
  "varInspector": {
   "cols": {
    "lenName": 16,
    "lenType": 16,
    "lenVar": 40
   },
   "kernels_config": {
    "python": {
     "delete_cmd_postfix": "",
     "delete_cmd_prefix": "del ",
     "library": "var_list.py",
     "varRefreshCmd": "print(var_dic_list())"
    },
    "r": {
     "delete_cmd_postfix": ") ",
     "delete_cmd_prefix": "rm(",
     "library": "var_list.r",
     "varRefreshCmd": "cat(var_dic_list()) "
    }
   },
   "types_to_exclude": [
    "module",
    "function",
    "builtin_function_or_method",
    "instance",
    "_Feature"
   ],
   "window_display": false
  }
 },
 "nbformat": 4,
 "nbformat_minor": 4
}

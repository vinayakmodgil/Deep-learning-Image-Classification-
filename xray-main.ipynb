{
  "nbformat": 4,
  "nbformat_minor": 0,
  "metadata": {
    "kernelspec": {
      "display_name": "Python 3",
      "language": "python",
      "name": "python3"
    },
    "toc": {
      "base_numbering": 1,
      "nav_menu": {},
      "number_sections": true,
      "sideBar": true,
      "skip_h1_title": false,
      "title_cell": "Table of Contents",
      "title_sidebar": "Contents",
      "toc_cell": false,
      "toc_position": {},
      "toc_section_display": true,
      "toc_window_display": false
    },
    "colab": {
      "name": "xray-main.ipynb",
      "provenance": []
    }
  },
  "cells": [
    {
      "cell_type": "code",
      "metadata": {
        "id": "wNGjRHT8sIUP",
        "outputId": "bcb86afb-48de-4d18-a39a-b2f4521d355e",
        "colab": {
          "base_uri": "https://localhost:8080/"
        }
      },
      "source": [
        "from google.colab import drive\n",
        "drive.mount('/content/drive')"
      ],
      "execution_count": 18,
      "outputs": [
        {
          "output_type": "stream",
          "name": "stdout",
          "text": [
            "Drive already mounted at /content/drive; to attempt to forcibly remount, call drive.mount(\"/content/drive\", force_remount=True).\n"
          ]
        }
      ]
    },
    {
      "cell_type": "code",
      "metadata": {
        "id": "GzucYx4-s5Of",
        "outputId": "ae367ab3-e219-4dc9-9407-f50609134945",
        "colab": {
          "base_uri": "https://localhost:8080/"
        }
      },
      "source": [
        "%cd drive/MyDrive/chest_xray"
      ],
      "execution_count": 19,
      "outputs": [
        {
          "output_type": "stream",
          "name": "stdout",
          "text": [
            "[Errno 2] No such file or directory: 'drive/MyDrive/chest_xray'\n",
            "/content/drive/MyDrive/chest_xray\n"
          ]
        }
      ]
    },
    {
      "cell_type": "markdown",
      "metadata": {
        "id": "tyc8Ms1EsF2a"
      },
      "source": [
        "# Final Project Submission\n",
        "- Student Name - Vinayak Modgil\n",
        "- Student pace - Full time\n",
        "- Scheduled project review time/date -\n",
        "- Instructor name - Yish Lim\n",
        "- Plog Post URL - "
      ]
    },
    {
      "cell_type": "markdown",
      "metadata": {
        "id": "drVLqb_3sF2d"
      },
      "source": [
        "# Table of Contents\n",
        "- [Introduction](#Introduction)\n",
        "- [Data Collection](#Data-Collection)\n",
        "- [Data Cleaning](#Data-Cleaning)\n",
        "- [Data Exploration](#Data-Exploration)\n",
        "- [Data Modeling](#Data-Modeling)\n",
        "- [Data Interpretation](#Data-Interpretation)\n",
        "- [Recommendations and Conclusions](#Recommendations-and-Conclusions)"
      ]
    },
    {
      "cell_type": "markdown",
      "metadata": {
        "id": "ACjR79iysF2e"
      },
      "source": [
        "# Introduction"
      ]
    },
    {
      "cell_type": "markdown",
      "metadata": {
        "id": "5Lmtmk83sF2e"
      },
      "source": [
        "# Data Collection"
      ]
    },
    {
      "cell_type": "markdown",
      "metadata": {
        "id": "1ZVbXVOcsF2e"
      },
      "source": [
        "## Import necessary packages"
      ]
    },
    {
      "cell_type": "code",
      "metadata": {
        "id": "V4yPeKLwsF2f"
      },
      "source": [
        "import pandas as pd\n",
        "import os, sys, glob\n",
        "import cv2\n",
        "\n",
        "import numpy as np \n",
        "import matplotlib.pyplot as plt\n",
        "import seaborn as sns\n",
        "import statsmodels.api as sm\n",
        "\n",
        "from PIL import Image\n",
        "\n",
        "import tensorflow as tf\n",
        "\n",
        "from keras.models import Sequential\n",
        "from keras.layers import Dense\n",
        "from keras.layers import Flatten\n",
        "from keras.layers import Convolution2D\n",
        "from keras.layers import MaxPooling2D\n",
        "from keras.layers import Dropout, Activation\n",
        "from keras.utils import np_utils\n",
        "from keras.preprocessing.image import ImageDataGenerator\n",
        "\n",
        "from sklearn.metrics import f1_score\n",
        "from sklearn.metrics import recall_score\n",
        "from sklearn.metrics import precision_score\n",
        "from sklearn.metrics import confusion_matrix, classification_report\n",
        "from sklearn.metrics import accuracy_score\n",
        "\n",
        "from sklearn.ensemble import RandomForestClassifier\n",
        "from sklearn.linear_model import LogisticRegression\n",
        "\n",
        "from sklearn.model_selection import GridSearchCV\n",
        "from sklearn.model_selection import train_test_split\n",
        "from sklearn.tree import DecisionTreeClassifier\n"
      ],
      "execution_count": 20,
      "outputs": []
    },
    {
      "cell_type": "markdown",
      "metadata": {
        "id": "UQG-4sDGsF2f"
      },
      "source": [
        "## Global Functions"
      ]
    },
    {
      "cell_type": "code",
      "metadata": {
        "id": "sP72Lyk2sF2f"
      },
      "source": [
        "def n_images_identifier(base_folder=\"/content/drive/MyDrive/chest_xray/\"):\n",
        "    '''\n",
        "    returns the number of different\n",
        "    types of images in the folders\n",
        "    \n",
        "    n_images_identifies: \n",
        "    - base folder : common folder holding all the images.\n",
        "    '''\n",
        "    #Takes the folder type as normal or pneumonia\n",
        "    folder_type = [\"NORMAL\", \"PNEUMONIA\"]\n",
        "    #\n",
        "    train_folder = base_folder + \"train/\"\n",
        "    test_folder = base_folder + \"test/\"\n",
        "    val_folder = base_folder + \"val/\"\n",
        "    \n",
        "    # iterates for folder in train_folder, test_folder\n",
        "    #and val_folder\n",
        "    for folder in [train_folder, test_folder, val_folder]:\n",
        "        \n",
        "        #Further iterates for _type in folder_type\n",
        "        for _type in folder_type:\n",
        "            if _type==\"NORMAL\":\n",
        "                n_normal = len(os.listdir(folder + _type))\n",
        "            else:\n",
        "                n_infected = len(os.listdir(folder + _type))\n",
        "        print(f\"Set: {folder}, normal images: {n_normal}, infected images: {n_infected}\")\n",
        "        print(f\"Folder {folder} has a total of {n_normal+n_infected} images\\n\")\n",
        "    return \n",
        "    "
      ],
      "execution_count": 23,
      "outputs": []
    },
    {
      "cell_type": "code",
      "metadata": {
        "id": "sPZ7WDKms09v",
        "outputId": "4ac42b80-5329-4687-fb71-1da4f1cb88bf",
        "colab": {
          "base_uri": "https://localhost:8080/"
        }
      },
      "source": [
        "n_images_identifier()"
      ],
      "execution_count": 24,
      "outputs": [
        {
          "output_type": "stream",
          "name": "stdout",
          "text": [
            "Set: /content/drive/MyDrive/chest_xray/train/, normal images: 1341, infected images: 3875\n",
            "Folder /content/drive/MyDrive/chest_xray/train/ has a total of 5216 images\n",
            "\n",
            "Set: /content/drive/MyDrive/chest_xray/test/, normal images: 234, infected images: 390\n",
            "Folder /content/drive/MyDrive/chest_xray/test/ has a total of 624 images\n",
            "\n",
            "Set: /content/drive/MyDrive/chest_xray/val/, normal images: 8, infected images: 8\n",
            "Folder /content/drive/MyDrive/chest_xray/val/ has a total of 16 images\n",
            "\n"
          ]
        }
      ]
    },
    {
      "cell_type": "code",
      "metadata": {
        "id": "KMhEXPjcsF2g"
      },
      "source": [
        "def data_processing(img_dims,\n",
        "                    batch_size_train=None,\n",
        "                    batch_size_test=None,\n",
        "                    batch_size_val=None,\n",
        "                    base_folder=\"/content/drive/MyDrive/chest_xray/\"):\n",
        "    train_folder = base_folder + \"train/\"\n",
        "    test_folder = base_folder + \"test/\"\n",
        "    val_folder = base_folder + \"val/\"\n",
        "\n",
        "    #Data genereation objects\n",
        "    train_images = ImageDataGenerator(rescale=1/255)\n",
        "    test_images = ImageDataGenerator(rescale=1/255)\n",
        "    val_images = ImageDataGenerator(rescale=1/255)\n",
        "    \n",
        "    \n",
        "    #Use flow from directory to get train and test \n",
        "    #images\n",
        "    if batch_size_train != None and batch_size_test != None and batch_size_val != None:\n",
        "\n",
        "      train_chest = train_images.flow_from_directory(\n",
        "      directory=train_folder,\n",
        "      target_size=(img_dims, img_dims),\n",
        "      batch_size=batch_size_train, \n",
        "      class_mode=\"binary\", \n",
        "      shuffle=True)\n",
        "    \n",
        "      test_chest = test_images.flow_from_directory(\n",
        "      directory=test_folder, \n",
        "      target_size=(img_dims, img_dims),\n",
        "      batch_size=batch_size_test, \n",
        "      class_mode=\"binary\", \n",
        "      shuffle=True)\n",
        "\n",
        "      val_chest = val_images.flow_from_directory(\n",
        "      directory=val_folder,\n",
        "      target_size=(img_dims, img_dims),\n",
        "      batch_size = batch_size_val,\n",
        "      class_mode=\"binary\",\n",
        "      shuffle=True)\n",
        "\n",
        "      return train_chest, test_chest, val_chest"
      ],
      "execution_count": 41,
      "outputs": []
    },
    {
      "cell_type": "code",
      "metadata": {
        "id": "zTVMvppMsF2g",
        "outputId": "37d8f887-3968-4ead-afd3-5c7e9f0d587c",
        "colab": {
          "base_uri": "https://localhost:8080/"
        }
      },
      "source": [
        ""
      ],
      "execution_count": null,
      "outputs": [
        {
          "output_type": "stream",
          "name": "stdout",
          "text": [
            "Found 5216 images belonging to 2 classes.\n"
          ]
        }
      ]
    },
    {
      "cell_type": "code",
      "metadata": {
        "id": "M86V5iUOw89X"
      },
      "source": [
        ""
      ],
      "execution_count": null,
      "outputs": []
    }
  ]
}